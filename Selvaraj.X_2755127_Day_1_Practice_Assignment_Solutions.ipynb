{
 "cells": [
  {
   "cell_type": "markdown",
   "id": "5d864bd1",
   "metadata": {},
   "source": [
    "# Language Fundamentals"
   ]
  },
  {
   "cell_type": "markdown",
   "id": "6ac53e4b",
   "metadata": {},
   "source": [
    "### 1. Manipulate Using a List"
   ]
  },
  {
   "cell_type": "code",
   "execution_count": 5,
   "id": "cdc1592d",
   "metadata": {},
   "outputs": [
    {
     "data": {
      "text/plain": [
       "[20, 'selva', 378.33, 70, -10, 'raj']"
      ]
     },
     "execution_count": 5,
     "metadata": {},
     "output_type": "execute_result"
    }
   ],
   "source": [
    "#i) To add new elements to the end of the list\n",
    "\n",
    "lst= [20,'selva',378.33,70,-10]\n",
    "lst.append('raj')\n",
    "\n",
    "lst"
   ]
  },
  {
   "cell_type": "code",
   "execution_count": 7,
   "id": "69142775",
   "metadata": {},
   "outputs": [
    {
     "data": {
      "text/plain": [
       "['raj', -10, 70, 378.33, 'selva', 20]"
      ]
     },
     "execution_count": 7,
     "metadata": {},
     "output_type": "execute_result"
    }
   ],
   "source": [
    "#ii)To reverse elements in the list\n",
    "lst.reverse()\n",
    "lst"
   ]
  },
  {
   "cell_type": "code",
   "execution_count": 9,
   "id": "51197319",
   "metadata": {},
   "outputs": [
    {
     "name": "stdout",
     "output_type": "stream",
     "text": [
      "list of elements multiple times :\n",
      " ['raj', -10, 70, 378.33, 'selva', 20, 'raj', -10, 70, 378.33, 'selva', 20, 'raj', -10, 70, 378.33, 'selva', 20]\n"
     ]
    }
   ],
   "source": [
    "#iii)To display same list of elements multiple times.\n",
    "print('list of elements multiple times :\\n',lst*3)"
   ]
  },
  {
   "cell_type": "code",
   "execution_count": 11,
   "id": "2e345142",
   "metadata": {},
   "outputs": [
    {
     "data": {
      "text/plain": [
       "['raj', -10, 70, 378.33, 'selva', 20, 44, 60, 77, 'concate', '10']"
      ]
     },
     "execution_count": 11,
     "metadata": {},
     "output_type": "execute_result"
    }
   ],
   "source": [
    "#iv) To concatenate two List\n",
    "\n",
    "lst1=[44,60,77,'concate','10']\n",
    "lst.extend(lst1)\n",
    "lst"
   ]
  },
  {
   "cell_type": "markdown",
   "id": "4629cd37",
   "metadata": {},
   "source": [
    "### 2. Write a python program to do in tuples"
   ]
  },
  {
   "cell_type": "code",
   "execution_count": 37,
   "id": "d803663d",
   "metadata": {},
   "outputs": [
    {
     "data": {
      "text/plain": [
       "(20, 8735, 200, 'tuple', 'element')"
      ]
     },
     "execution_count": 37,
     "metadata": {},
     "output_type": "execute_result"
    }
   ],
   "source": [
    "tuples = (20,8735,200,'tuple')\n",
    "\n",
    "#i) Manipilate Using Tuples\n",
    "#ii)To add new element to end of the tuples\n",
    "\n",
    "#We can't manipulate and Adding new element in the tuple is not possible because Tuple is immutable in nature. \n",
    "#so creating an new tuple variable to add new tuple elements.\n",
    "\n",
    "element=70\n",
    "new_tuple = tuples+('element',)\n",
    "new_tuple\n"
   ]
  },
  {
   "cell_type": "code",
   "execution_count": 38,
   "id": "9055b266",
   "metadata": {},
   "outputs": [
    {
     "data": {
      "text/plain": [
       "['tuple', 200, 8735, 20]"
      ]
     },
     "execution_count": 38,
     "metadata": {},
     "output_type": "execute_result"
    }
   ],
   "source": [
    "#iii) To reverse elements in the list\n",
    "\n",
    "lst=list(tuples) #Converted tuple to list for reverse an element\n",
    "lst.reverse()\n",
    "lst"
   ]
  },
  {
   "cell_type": "code",
   "execution_count": 39,
   "id": "67bc7f76",
   "metadata": {},
   "outputs": [
    {
     "data": {
      "text/plain": [
       "(20, 8735, 200, 'tuple', 20, 8735, 200, 'tuple')"
      ]
     },
     "execution_count": 39,
     "metadata": {},
     "output_type": "execute_result"
    }
   ],
   "source": [
    "#iv) Display same element multiple times)\n",
    "tuples*2"
   ]
  },
  {
   "cell_type": "code",
   "execution_count": 40,
   "id": "b02a5604",
   "metadata": {},
   "outputs": [
    {
     "data": {
      "text/plain": [
       "(20, 8735, 200, 'tuple', 17, 87, 90)"
      ]
     },
     "execution_count": 40,
     "metadata": {},
     "output_type": "execute_result"
    }
   ],
   "source": [
    "#v) Concatenate Two tuples\n",
    "tuples1 =(17,87,90)\n",
    "concate = tuples + tuples1\n",
    "\n",
    "concate"
   ]
  },
  {
   "cell_type": "code",
   "execution_count": 44,
   "id": "04dbb82d",
   "metadata": {},
   "outputs": [
    {
     "data": {
      "text/plain": [
       "[17, 87, 90]"
      ]
     },
     "execution_count": 44,
     "metadata": {},
     "output_type": "execute_result"
    }
   ],
   "source": [
    "#vi) sort element in the list Ascending order\n",
    "tuples_sort=list(tuples1)\n",
    "tuples_sort.sort()\n",
    "tuples_sort"
   ]
  },
  {
   "cell_type": "markdown",
   "id": "eba71fca",
   "metadata": {},
   "source": [
    "### 3.Write a Python program to implement the following using list"
   ]
  },
  {
   "cell_type": "code",
   "execution_count": 45,
   "id": "278a246f",
   "metadata": {},
   "outputs": [
    {
     "data": {
      "text/plain": [
       "[10, 20, 30, 40, 50, 60, 70, 80, 90, 100, 110, 120]"
      ]
     },
     "execution_count": 45,
     "metadata": {},
     "output_type": "execute_result"
    }
   ],
   "source": [
    "#i) create list with integers \n",
    "lst =[10,20,30,40,50,60,70,80,90,100,110,120]\n",
    "lst"
   ]
  },
  {
   "cell_type": "code",
   "execution_count": 50,
   "id": "e233899a",
   "metadata": {},
   "outputs": [
    {
     "data": {
      "text/plain": [
       "120"
      ]
     },
     "execution_count": 50,
     "metadata": {},
     "output_type": "execute_result"
    }
   ],
   "source": [
    "#ii) Display last number in the list\n",
    "lst[11:]\n",
    "#or\n",
    "lst[-1]"
   ]
  },
  {
   "cell_type": "code",
   "execution_count": 51,
   "id": "a9932d78",
   "metadata": {},
   "outputs": [
    {
     "data": {
      "text/plain": [
       "[10, 20, 30, 40]"
      ]
     },
     "execution_count": 51,
     "metadata": {},
     "output_type": "execute_result"
    }
   ],
   "source": [
    "#iii) command for displaying the values from the list[0:4]\n",
    "lst[0:4]"
   ]
  },
  {
   "cell_type": "code",
   "execution_count": 52,
   "id": "19c87748",
   "metadata": {},
   "outputs": [
    {
     "data": {
      "text/plain": [
       "[30, 40, 50, 60, 70, 80, 90, 100, 110, 120]"
      ]
     },
     "execution_count": 52,
     "metadata": {},
     "output_type": "execute_result"
    }
   ],
   "source": [
    "#iv) command for displaying the values from the list[2:]\n",
    "lst[2:]"
   ]
  },
  {
   "cell_type": "code",
   "execution_count": 53,
   "id": "cc737a03",
   "metadata": {},
   "outputs": [
    {
     "data": {
      "text/plain": [
       "[10, 20, 30, 40, 50, 60]"
      ]
     },
     "execution_count": 53,
     "metadata": {},
     "output_type": "execute_result"
    }
   ],
   "source": [
    "#v) command for displaying the values from the list[:6]\n",
    "lst[:6]"
   ]
  },
  {
   "cell_type": "markdown",
   "id": "3fb7481f",
   "metadata": {},
   "source": [
    "### 4. Write a Python program: tuple1 = (10,50,20,40,30)"
   ]
  },
  {
   "cell_type": "code",
   "execution_count": 64,
   "id": "844316c4",
   "metadata": {},
   "outputs": [
    {
     "data": {
      "text/plain": [
       "(10, 50)"
      ]
     },
     "execution_count": 64,
     "metadata": {},
     "output_type": "execute_result"
    }
   ],
   "source": [
    "tuple1 =  (10,50,20,40,30)\n",
    "#i) display element 10 and 50 from tuple1\n",
    "tuple1[0:2]"
   ]
  },
  {
   "cell_type": "code",
   "execution_count": 65,
   "id": "51fe8278",
   "metadata": {},
   "outputs": [
    {
     "data": {
      "text/plain": [
       "5"
      ]
     },
     "execution_count": 65,
     "metadata": {},
     "output_type": "execute_result"
    }
   ],
   "source": [
    "#ii)Display Length of tuple1\n",
    "len(tuple1)"
   ]
  },
  {
   "cell_type": "code",
   "execution_count": 66,
   "id": "80a96a9d",
   "metadata": {},
   "outputs": [
    {
     "data": {
      "text/plain": [
       "10"
      ]
     },
     "execution_count": 66,
     "metadata": {},
     "output_type": "execute_result"
    }
   ],
   "source": [
    "#iii)Find Minimum element from tuple1\n",
    "min = tuple1[0]\n",
    "for i in range(1,len(tuple1)):\n",
    "    if(tuple1[i]< min):\n",
    "        min = tuple1[i]\n",
    "min"
   ]
  },
  {
   "cell_type": "code",
   "execution_count": 72,
   "id": "18500c93",
   "metadata": {},
   "outputs": [
    {
     "data": {
      "text/plain": [
       "140"
      ]
     },
     "execution_count": 72,
     "metadata": {},
     "output_type": "execute_result"
    }
   ],
   "source": [
    "#iv)add all elements in tuple1\n",
    "sum_element =0\n",
    "for i in range(1,len(tuple1)):\n",
    "    sum_element +=tuple1[i];\n",
    "sum_element"
   ]
  },
  {
   "cell_type": "code",
   "execution_count": 73,
   "id": "8da97a3d",
   "metadata": {},
   "outputs": [
    {
     "data": {
      "text/plain": [
       "(10, 50, 20, 40, 30, 10, 50, 20, 40, 30, 10, 50, 20, 40, 30)"
      ]
     },
     "execution_count": 73,
     "metadata": {},
     "output_type": "execute_result"
    }
   ],
   "source": [
    "#v)Display same tuple1 muliple times\n",
    "tuple1*3"
   ]
  },
  {
   "cell_type": "markdown",
   "id": "4569b8b6",
   "metadata": {},
   "source": [
    "### 5. Write a python Program"
   ]
  },
  {
   "cell_type": "code",
   "execution_count": 74,
   "id": "99bd3328",
   "metadata": {},
   "outputs": [
    {
     "data": {
      "text/plain": [
       "8"
      ]
     },
     "execution_count": 74,
     "metadata": {},
     "output_type": "execute_result"
    }
   ],
   "source": [
    "#i)Calculate length of string\n",
    "\n",
    "string ='selvaraj'\n",
    "len(string)"
   ]
  },
  {
   "cell_type": "code",
   "execution_count": 79,
   "id": "8d4c4d13",
   "metadata": {},
   "outputs": [
    {
     "data": {
      "text/plain": [
       "'jaravles'"
      ]
     },
     "execution_count": 79,
     "metadata": {},
     "output_type": "execute_result"
    }
   ],
   "source": [
    "#ii)Reverse words in a string\n",
    "\n",
    "reverse=string[::-1]\n",
    "reverse"
   ]
  },
  {
   "cell_type": "code",
   "execution_count": 83,
   "id": "bc70530a",
   "metadata": {},
   "outputs": [
    {
     "data": {
      "text/plain": [
       "'jaravlesjaravlesjaravlesjaravles'"
      ]
     },
     "execution_count": 83,
     "metadata": {},
     "output_type": "execute_result"
    }
   ],
   "source": [
    "#iii)Display same string multiple times\n",
    "reverse*4"
   ]
  },
  {
   "cell_type": "code",
   "execution_count": 84,
   "id": "89fa83e5",
   "metadata": {},
   "outputs": [
    {
     "data": {
      "text/plain": [
       "'selvaraj2577127'"
      ]
     },
     "execution_count": 84,
     "metadata": {},
     "output_type": "execute_result"
    }
   ],
   "source": [
    "#iv) Concatenate two string\n",
    "string1 = '2577127'\n",
    "concate = string + string1\n",
    "concate"
   ]
  },
  {
   "cell_type": "code",
   "execution_count": 89,
   "id": "413b872e",
   "metadata": {},
   "outputs": [
    {
     "data": {
      "text/plain": [
       "'India'"
      ]
     },
     "execution_count": 89,
     "metadata": {},
     "output_type": "execute_result"
    }
   ],
   "source": [
    "#v)Slicing String to display \"india\"\n",
    "Str1 =\"south India\"\n",
    "Str1[6:]"
   ]
  },
  {
   "cell_type": "markdown",
   "id": "1a99d086",
   "metadata": {},
   "source": [
    "### 7. Python program to insert a number to any position in a list"
   ]
  },
  {
   "cell_type": "code",
   "execution_count": 97,
   "id": "38693631",
   "metadata": {},
   "outputs": [
    {
     "data": {
      "text/plain": [
       "[1, 2, 3, 4, 10, -1000, 5, 6, 7, 8, 9]"
      ]
     },
     "execution_count": 97,
     "metadata": {},
     "output_type": "execute_result"
    }
   ],
   "source": [
    "lst = [1,2,3,4,5,6,7,8,9]\n",
    "\n",
    "lst.insert(4,10) #insert(position, element)\n",
    "lst.insert(5,-1000)\n",
    "lst\n"
   ]
  },
  {
   "cell_type": "markdown",
   "id": "e394ec9c",
   "metadata": {},
   "source": [
    "### 8. Python program to delete a number from the list by a index"
   ]
  },
  {
   "cell_type": "code",
   "execution_count": 98,
   "id": "2b23460e",
   "metadata": {},
   "outputs": [
    {
     "data": {
      "text/plain": [
       "[1, 2, 3, 10, -1000, 5, 6, 8, 9]"
      ]
     },
     "execution_count": 98,
     "metadata": {},
     "output_type": "execute_result"
    }
   ],
   "source": [
    "lst.pop(3)\n",
    "lst.pop(7)\n",
    "lst"
   ]
  },
  {
   "cell_type": "markdown",
   "id": "1029378d",
   "metadata": {},
   "source": [
    "### 9. Write a program to display a number from 1 to 100"
   ]
  },
  {
   "cell_type": "code",
   "execution_count": 102,
   "id": "f3e4d623",
   "metadata": {},
   "outputs": [
    {
     "name": "stdout",
     "output_type": "stream",
     "text": [
      "1 \n",
      "\n",
      "2 \n",
      "\n",
      "3 \n",
      "\n",
      "4 \n",
      "\n",
      "5 \n",
      "\n",
      "6 \n",
      "\n",
      "7 \n",
      "\n",
      "8 \n",
      "\n",
      "9 \n",
      "\n",
      "10 \n",
      "\n",
      "11 \n",
      "\n",
      "12 \n",
      "\n",
      "13 \n",
      "\n",
      "14 \n",
      "\n",
      "15 \n",
      "\n",
      "16 \n",
      "\n",
      "17 \n",
      "\n",
      "18 \n",
      "\n",
      "19 \n",
      "\n",
      "20 \n",
      "\n",
      "21 \n",
      "\n",
      "22 \n",
      "\n",
      "23 \n",
      "\n",
      "24 \n",
      "\n",
      "25 \n",
      "\n",
      "26 \n",
      "\n",
      "27 \n",
      "\n",
      "28 \n",
      "\n",
      "29 \n",
      "\n",
      "30 \n",
      "\n",
      "31 \n",
      "\n",
      "32 \n",
      "\n",
      "33 \n",
      "\n",
      "34 \n",
      "\n",
      "35 \n",
      "\n",
      "36 \n",
      "\n",
      "37 \n",
      "\n",
      "38 \n",
      "\n",
      "39 \n",
      "\n",
      "40 \n",
      "\n",
      "41 \n",
      "\n",
      "42 \n",
      "\n",
      "43 \n",
      "\n",
      "44 \n",
      "\n",
      "45 \n",
      "\n",
      "46 \n",
      "\n",
      "47 \n",
      "\n",
      "48 \n",
      "\n",
      "49 \n",
      "\n",
      "50 \n",
      "\n",
      "51 \n",
      "\n",
      "52 \n",
      "\n",
      "53 \n",
      "\n",
      "54 \n",
      "\n",
      "55 \n",
      "\n",
      "56 \n",
      "\n",
      "57 \n",
      "\n",
      "58 \n",
      "\n",
      "59 \n",
      "\n",
      "60 \n",
      "\n",
      "61 \n",
      "\n",
      "62 \n",
      "\n",
      "63 \n",
      "\n",
      "64 \n",
      "\n",
      "65 \n",
      "\n",
      "66 \n",
      "\n",
      "67 \n",
      "\n",
      "68 \n",
      "\n",
      "69 \n",
      "\n",
      "70 \n",
      "\n",
      "71 \n",
      "\n",
      "72 \n",
      "\n",
      "73 \n",
      "\n",
      "74 \n",
      "\n",
      "75 \n",
      "\n",
      "76 \n",
      "\n",
      "77 \n",
      "\n",
      "78 \n",
      "\n",
      "79 \n",
      "\n",
      "80 \n",
      "\n",
      "81 \n",
      "\n",
      "82 \n",
      "\n",
      "83 \n",
      "\n",
      "84 \n",
      "\n",
      "85 \n",
      "\n",
      "86 \n",
      "\n",
      "87 \n",
      "\n",
      "88 \n",
      "\n",
      "89 \n",
      "\n",
      "90 \n",
      "\n",
      "91 \n",
      "\n",
      "92 \n",
      "\n",
      "93 \n",
      "\n",
      "94 \n",
      "\n",
      "95 \n",
      "\n",
      "96 \n",
      "\n",
      "97 \n",
      "\n",
      "98 \n",
      "\n",
      "99 \n",
      "\n",
      "100 \n",
      "\n"
     ]
    }
   ],
   "source": [
    "for i in range(0,100):\n",
    "   print(i+1,'\\n')"
   ]
  },
  {
   "cell_type": "markdown",
   "id": "a5bb2efa",
   "metadata": {},
   "source": [
    "### 10. Write a program to to find the sum of all items in a tuple"
   ]
  },
  {
   "cell_type": "code",
   "execution_count": 105,
   "id": "fa91487e",
   "metadata": {},
   "outputs": [
    {
     "data": {
      "text/plain": [
       "130"
      ]
     },
     "execution_count": 105,
     "metadata": {},
     "output_type": "execute_result"
    }
   ],
   "source": [
    "tuples=(3,10,17,100)\n",
    "sum=0\n",
    "x=len(tuples)\n",
    "for i in range(0, x):\n",
    "    sum +=tuples[i]\n",
    "\n",
    "sum"
   ]
  },
  {
   "cell_type": "markdown",
   "id": "65ea9b96",
   "metadata": {},
   "source": [
    "### 11. Creating a dictionary containing three lambda functions square, cube and square root:"
   ]
  },
  {
   "cell_type": "code",
   "execution_count": 117,
   "id": "c37933ad",
   "metadata": {},
   "outputs": [
    {
     "name": "stdout",
     "output_type": "stream",
     "text": [
      "Enter value of x: 3\n",
      "The Square of 3 is 9\n",
      "The cube of 3 is 27\n",
      "The squareroot of 3 is 1.7320508075688772\n"
     ]
    }
   ],
   "source": [
    "\n",
    "\n",
    "dict_lambda ={\n",
    "    'square': lambda x: x**2,\n",
    "    'cube': lambda x: x**3,\n",
    "    'squareroot': lambda x: x**0.5\n",
    "}\n",
    "\n",
    "x=int(input(\"Enter value of x: \"))\n",
    "\n",
    "square_res = dict_lambda['square'](x)\n",
    "cube_res = dict_lambda['cube'](x)\n",
    "squareroot_res = dict_lambda['squareroot'](x)\n",
    "\n",
    "print('The Square of {} is {}'.format(x,square_res))\n",
    "print('The cube of {} is {}'.format(x,cube_res))\n",
    "print('The squareroot of {} is {}'.format(x,squareroot_res))\n"
   ]
  },
  {
   "cell_type": "markdown",
   "id": "8159075d",
   "metadata": {},
   "source": [
    "### 12. A list of word is given. Find the words from the list that have their second character in uppertcase"
   ]
  },
  {
   "cell_type": "code",
   "execution_count": null,
   "id": "40b4e8a2",
   "metadata": {},
   "outputs": [],
   "source": []
  }
 ],
 "metadata": {
  "kernelspec": {
   "display_name": "Python 3 (ipykernel)",
   "language": "python",
   "name": "python3"
  },
  "language_info": {
   "codemirror_mode": {
    "name": "ipython",
    "version": 3
   },
   "file_extension": ".py",
   "mimetype": "text/x-python",
   "name": "python",
   "nbconvert_exporter": "python",
   "pygments_lexer": "ipython3",
   "version": "3.11.4"
  }
 },
 "nbformat": 4,
 "nbformat_minor": 5
}
